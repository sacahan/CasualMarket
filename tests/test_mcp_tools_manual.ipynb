{
 "cells": [
  {
   "cell_type": "markdown",
   "id": "47057032",
   "metadata": {},
   "source": [
    "# CasualMarket MCP 工具測試手冊\n"
   ]
  },
  {
   "cell_type": "code",
   "execution_count": null,
   "id": "e7037a1e",
   "metadata": {},
   "outputs": [],
   "source": [
    "from agents.mcp import MCPServerStdio\n",
    "import json\n",
    "\n",
    "# 修復後的參數設定 - 這是正確的配置\n",
    "params = {\n",
    "    \"command\": \"uv\",\n",
    "    \"args\": [\n",
    "        \"run\",\n",
    "        \"--directory\",\n",
    "        \"/Users/sacahan/Documents/workspace/CasualMarket\",\n",
    "        \"python\",\n",
    "        \"-m\",\n",
    "        \"src.main\",\n",
    "    ],\n",
    "    \"env\": {\"MARKET_MCP_LOG_FILE\": \"./logs/mcp.log\", \"MARKET_MCP_RATE_LIMIT_INTERVAL\": \"5.0\"},\n",
    "}"
   ]
  },
  {
   "cell_type": "markdown",
   "id": "4457d700",
   "metadata": {},
   "source": [
    "## 1. 交易相關工具測試"
   ]
  },
  {
   "cell_type": "markdown",
   "id": "e855f23e",
   "metadata": {},
   "source": [
    "## 0. 快取測試（使用單一 Server 實例）\n",
    "\n",
    "⚠️ **重要**：為了測試快取效果，下面的測試使用**相同的 server 實例**執行多次查詢。\n",
    "這樣快取才能在同一進程中生效，您可以看到日誌中的 `[快取命中]` 記錄。\n"
   ]
  },
  {
   "cell_type": "code",
   "execution_count": null,
   "id": "ac203199",
   "metadata": {},
   "outputs": [],
   "source": [
    "import time\n",
    "\n",
    "print(\"=\" * 80)\n",
    "print(\"快取演示：同一 Server 實例中的多次查詢\")\n",
    "print(\"=\" * 80)\n",
    "\n",
    "async with MCPServerStdio(params=params, client_session_timeout_seconds=60) as server:\n",
    "    # 第一次查詢 - 應該命中 API\n",
    "    print(\"\\n【查詢 1】get_company_profile (3231) - 第一次\")\n",
    "    start_time_1 = time.time()\n",
    "    result1 = await server.session.call_tool(\n",
    "        \"get_company_profile\",\n",
    "        {\"symbol\": \"3231\"}\n",
    "    )\n",
    "    time1 = (time.time() - start_time_1) * 1000\n",
    "    print(f\"✓ 耗時: {time1:.2f}ms\")\n",
    "    data1 = json.loads(result1.content[0].text)\n",
    "    print(f\"✓ 資料欄位: {list(data1.get('data', {}).keys())[:5]}...\")  # 只顯示前5個欄位\n",
    "\n",
    "    time.sleep(0.3)\n",
    "\n",
    "    # 第二次查詢相同資料 - 應該從快取讀取（快很多）\n",
    "    print(\"\\n【查詢 2】get_company_profile (3231) - 第二次（應該從快取讀取）\")\n",
    "    start_time_2 = time.time()\n",
    "    result2 = await server.session.call_tool(\n",
    "        \"get_company_profile\",\n",
    "        {\"symbol\": \"3231\"}\n",
    "    )\n",
    "    time2 = (time.time() - start_time_2) * 1000\n",
    "    print(f\"✓ 耗時: {time2:.2f}ms\")\n",
    "    \n",
    "    # 效能對比\n",
    "    print(\"\\n\" + \"=\" * 80)\n",
    "    print(\"【效能對比】\")\n",
    "    print(\"=\" * 80)\n",
    "    print(f\"第一次 (API):     {time1:.2f}ms\")\n",
    "    print(f\"第二次 (快取):    {time2:.2f}ms\")\n",
    "    speedup = time1 / time2 if time2 > 0 else float('inf')\n",
    "    print(f\"加速比:           {speedup:.1f}x\")\n",
    "    \n",
    "    if time2 < time1 * 0.5:\n",
    "        print(\"✅ 快取正常運作！\")\n",
    "    else:\n",
    "        print(\"⚠️  快取可能未生效\")\n",
    "\n",
    "    time.sleep(0.3)\n",
    "\n",
    "    # 第三次查詢不同資料 - 應該命中 API\n",
    "    print(\"\\n【查詢 3】get_company_profile (2330) - 不同股票，應該命中 API\")\n",
    "    start_time_3 = time.time()\n",
    "    result3 = await server.session.call_tool(\n",
    "        \"get_company_profile\",\n",
    "        {\"symbol\": \"2330\"}\n",
    "    )\n",
    "    time3 = (time.time() - start_time_3) * 1000\n",
    "    print(f\"✓ 耗時: {time3:.2f}ms\")\n",
    "\n",
    "    time.sleep(0.3)\n",
    "\n",
    "    # 第四次查詢相同資料 - 應該從快取讀取\n",
    "    print(\"\\n【查詢 4】get_company_profile (2330) - 第二次（應該從快取讀取）\")\n",
    "    start_time_4 = time.time()\n",
    "    result4 = await server.session.call_tool(\n",
    "        \"get_company_profile\",\n",
    "        {\"symbol\": \"2330\"}\n",
    "    )\n",
    "    time4 = (time.time() - start_time_4) * 1000\n",
    "    print(f\"✓ 耗時: {time4:.2f}ms\")\n",
    "\n",
    "print(\"\\n✓ 測試完成！請查看日誌檔案查看詳細的 [快取命中] 和 [已快取] 記錄\")\n",
    "print(f\"  日誌位置: ./logs/mcp.log\")\n"
   ]
  },
  {
   "cell_type": "code",
   "execution_count": null,
   "id": "bd506085",
   "metadata": {},
   "outputs": [],
   "source": [
    "print(\"=\" * 80)\n",
    "print(\"🔧 修復後的快取測試\")\n",
    "print(\"=\" * 80)\n",
    "\n",
    "async with MCPServerStdio(params=params, client_session_timeout_seconds=120) as server:\n",
    "    print(\"\\n📊 清除舊日誌並開始新測試...\")\n",
    "    \n",
    "    # 清除日誌檔案以便觀察新的日誌\n",
    "    import os\n",
    "    log_path = \"./logs/mcp.log\"\n",
    "    if os.path.exists(log_path):\n",
    "        # 備份舊日誌\n",
    "        import shutil\n",
    "        backup_path = f\"{log_path}.backup\"\n",
    "        shutil.copy2(log_path, backup_path)\n",
    "        print(f\"✓ 已備份舊日誌到 {backup_path}\")\n",
    "        \n",
    "        # 清空日誌檔案\n",
    "        with open(log_path, 'w') as f:\n",
    "            f.write(\"\")\n",
    "        print(f\"✓ 已清空 {log_path}\")\n",
    "    \n",
    "    time.sleep(1)  # 等待日誌系統重新初始化\n",
    "    \n",
    "    # === 測試 1: 相同公司的重複查詢 ===\n",
    "    print(\"\\n\" + \"=\"*60)\n",
    "    print(\"📋 測試 1: 相同公司 (3231) 的重複查詢\")\n",
    "    print(\"=\"*60)\n",
    "    \n",
    "    # 第一次查詢 3231\n",
    "    print(\"■ 查詢 1: get_company_profile(3231) - 第 1 次 (應命中 API)\")\n",
    "    start = time.time()\n",
    "    result1 = await server.session.call_tool(\n",
    "        \"get_company_profile\",\n",
    "        {\"symbol\": \"3231\"}\n",
    "    )\n",
    "    time1 = (time.time() - start) * 1000\n",
    "    print(f\"  ✓ 耗時: {time1:.2f}ms\")\n",
    "    \n",
    "    time.sleep(0.5)\n",
    "    \n",
    "    # 第二次查詢 3231（應該從快取讀取）\n",
    "    print(\"■ 查詢 2: get_company_profile(3231) - 第 2 次 (應從快取讀取)\")\n",
    "    start = time.time()\n",
    "    result2 = await server.session.call_tool(\n",
    "        \"get_company_profile\",\n",
    "        {\"symbol\": \"3231\"}\n",
    "    )\n",
    "    time2 = (time.time() - start) * 1000\n",
    "    print(f\"  ✓ 耗時: {time2:.2f}ms\")\n",
    "    \n",
    "    # 分析結果\n",
    "    speedup1 = time1 / time2 if time2 > 0 else float('inf')\n",
    "    print(f\"\\n📈 效能對比:\")\n",
    "    print(f\"  第 1 次: {time1:.2f}ms\")\n",
    "    print(f\"  第 2 次: {time2:.2f}ms\") \n",
    "    print(f\"  加速比: {speedup1:.1f}x\")\n",
    "    \n",
    "    if time2 < time1 * 0.5:\n",
    "        print(\"  ✅ 快取生效！\")\n",
    "    else:\n",
    "        print(\"  ⚠️  快取可能未生效\")\n",
    "    \n",
    "    time.sleep(0.5)\n",
    "    \n",
    "    # === 測試 2: 不同公司的查詢 ===\n",
    "    print(\"\\n\" + \"=\"*60)\n",
    "    print(\"📋 測試 2: 不同公司 (2330) 的查詢\")\n",
    "    print(\"=\"*60)\n",
    "    \n",
    "    # 第一次查詢 2330\n",
    "    print(\"■ 查詢 3: get_company_profile(2330) - 第 1 次 (應命中 API)\")\n",
    "    start = time.time()\n",
    "    result3 = await server.session.call_tool(\n",
    "        \"get_company_profile\",\n",
    "        {\"symbol\": \"2330\"}\n",
    "    )\n",
    "    time3 = (time.time() - start) * 1000\n",
    "    print(f\"  ✓ 耗時: {time3:.2f}ms\")\n",
    "    \n",
    "    time.sleep(0.5)\n",
    "    \n",
    "    # 第二次查詢 2330（應該從快取讀取）\n",
    "    print(\"■ 查詢 4: get_company_profile(2330) - 第 2 次 (應從快取讀取)\")\n",
    "    start = time.time()\n",
    "    result4 = await server.session.call_tool(\n",
    "        \"get_company_profile\",\n",
    "        {\"symbol\": \"2330\"}\n",
    "    )\n",
    "    time4 = (time.time() - start) * 1000\n",
    "    print(f\"  ✓ 耗時: {time4:.2f}ms\")\n",
    "    \n",
    "    # 分析結果\n",
    "    speedup2 = time3 / time4 if time4 > 0 else float('inf')\n",
    "    print(f\"\\n📈 效能對比:\")\n",
    "    print(f\"  第 1 次: {time3:.2f}ms\")\n",
    "    print(f\"  第 2 次: {time4:.2f}ms\")\n",
    "    print(f\"  加速比: {speedup2:.1f}x\")\n",
    "    \n",
    "    if time4 < time3 * 0.5:\n",
    "        print(\"  ✅ 快取生效！\")\n",
    "    else:\n",
    "        print(\"  ⚠️  快取可能未生效\")\n",
    "    \n",
    "    time.sleep(0.5)\n",
    "    \n",
    "    # === 測試 3: 再次查詢第一個公司（驗證快取持續有效）===\n",
    "    print(\"\\n\" + \"=\"*60)\n",
    "    print(\"📋 測試 3: 再次查詢 3231（驗證快取持續有效）\")\n",
    "    print(\"=\"*60)\n",
    "    \n",
    "    print(\"■ 查詢 5: get_company_profile(3231) - 第 3 次 (應從快取讀取)\")\n",
    "    start = time.time()\n",
    "    result5 = await server.session.call_tool(\n",
    "        \"get_company_profile\",\n",
    "        {\"symbol\": \"3231\"}\n",
    "    )\n",
    "    time5 = (time.time() - start) * 1000\n",
    "    print(f\"  ✓ 耗時: {time5:.2f}ms\")\n",
    "    \n",
    "    speedup3 = time1 / time5 if time5 > 0 else float('inf')\n",
    "    print(f\"  與第 1 次對比: {speedup3:.1f}x 加速\")\n",
    "    \n",
    "    if time5 < time1 * 0.5:\n",
    "        print(\"  ✅ 快取持續有效！\")\n",
    "    else:\n",
    "        print(\"  ⚠️  快取可能已失效\")\n",
    "\n",
    "print(\"\\n\" + \"=\" * 80)\n",
    "print(\"🔍 測試完成！立即檢查日誌檔案中的快取記錄\")\n",
    "print(\"=\" * 80)\n",
    "print(\"執行下一個 cell（快取配置檢查工具）來查看詳細統計\")"
   ]
  },
  {
   "cell_type": "markdown",
   "id": "5fd5a064",
   "metadata": {},
   "source": [
    "### 1.1 取得台灣股票即時價格"
   ]
  },
  {
   "cell_type": "markdown",
   "id": "737081be",
   "metadata": {},
   "source": [
    "## 1.1.1 單一 Server 實例測試（推薦用於快取驗證）\n",
    "\n",
    "使用單一 server 實例測試多個股票查詢，觀察快取效果。\n"
   ]
  },
  {
   "cell_type": "code",
   "execution_count": null,
   "id": "ab2992f3",
   "metadata": {},
   "outputs": [],
   "source": [
    "import time\n",
    "\n",
    "# 單一 server 實例，執行多個查詢\n",
    "async with MCPServerStdio(params=params, client_session_timeout_seconds=120) as server:\n",
    "    print(\"=\" * 80)\n",
    "    print(\"【單一 Server 實例多查詢測試】\")\n",
    "    print(\"=\" * 80)\n",
    "    \n",
    "    test_symbols = [\"2317\", \"台積電\", \"0050\"]\n",
    "    \n",
    "    for symbol in test_symbols:\n",
    "        print(f\"\\n■ 查詢: {symbol} (第一次 - 命中 API)\")\n",
    "        start = time.time()\n",
    "        result = await server.session.call_tool(\n",
    "            \"get_taiwan_stock_price\",\n",
    "            {\"symbol\": symbol}\n",
    "        )\n",
    "        elapsed = (time.time() - start) * 1000\n",
    "        print(f\"  耗時: {elapsed:.2f}ms\")\n",
    "        \n",
    "        time.sleep(0.2)\n",
    "        \n",
    "        print(f\"■ 查詢: {symbol} (第二次 - 應從快取讀取)\")\n",
    "        start = time.time()\n",
    "        result = await server.session.call_tool(\n",
    "            \"get_taiwan_stock_price\",\n",
    "            {\"symbol\": symbol}\n",
    "        )\n",
    "        elapsed = (time.time() - start) * 1000\n",
    "        print(f\"  耗時: {elapsed:.2f}ms ⚡ (應該快速)\")\n",
    "        \n",
    "        time.sleep(0.3)\n",
    "\n",
    "print(\"\\n✓ 測試完成！查看 logs/mcp.log 中的 [快取命中] 記錄\")\n"
   ]
  },
  {
   "cell_type": "markdown",
   "id": "96fae4ca",
   "metadata": {},
   "source": [
    "\n",
    "---\n",
    "\n",
    "### 📚 對比示例：不同 Server 實例 vs 相同 Server 實例\n"
   ]
  },
  {
   "cell_type": "code",
   "execution_count": null,
   "id": "943113fb",
   "metadata": {},
   "outputs": [],
   "source": [
    "print(\"=\" * 80)\n",
    "print(\"❌ 不推薦：使用不同的 Server 實例\")\n",
    "print(\"=\" * 80)\n",
    "print(\"每次呼叫都建立新 server → 新進程 → 快取無法共享\\n\")\n",
    "\n",
    "times_separate = []\n",
    "for i in range(2):\n",
    "    print(f\"查詢 {i+1}: 使用新的 server 實例\")\n",
    "    start = time.time()\n",
    "    async with MCPServerStdio(params=params, client_session_timeout_seconds=60) as server:\n",
    "        result = await server.session.call_tool(\n",
    "            \"get_company_profile\",\n",
    "            {\"symbol\": \"3231\"}\n",
    "        )\n",
    "    elapsed = (time.time() - start) * 1000\n",
    "    times_separate.append(elapsed)\n",
    "    print(f\"  耗時: {elapsed:.2f}ms (都是 API 呼叫，沒有快取效果)\\n\")\n",
    "\n",
    "print(\"\\n\" + \"=\" * 80)\n",
    "print(\"✅ 推薦：使用相同的 Server 實例\")\n",
    "print(\"=\" * 80)\n",
    "print(\"同一個 server → 同一進程 → 快取有效\\n\")\n",
    "\n",
    "times_same = []\n",
    "async with MCPServerStdio(params=params, client_session_timeout_seconds=60) as server:\n",
    "    for i in range(2):\n",
    "        print(f\"查詢 {i+1}: 使用相同的 server 實例\")\n",
    "        start = time.time()\n",
    "        result = await server.session.call_tool(\n",
    "            \"get_company_profile\",\n",
    "            {\"symbol\": \"3231\"}\n",
    "        )\n",
    "        elapsed = (time.time() - start) * 1000\n",
    "        times_same.append(elapsed)\n",
    "        if i == 0:\n",
    "            print(f\"  耗時: {elapsed:.2f}ms (第一次，命中 API)\")\n",
    "        else:\n",
    "            print(f\"  耗時: {elapsed:.2f}ms (第二次，從快取讀取 ⚡)\")\n",
    "        time.sleep(0.2)\n",
    "\n",
    "print(\"\\n\" + \"=\" * 80)\n",
    "print(\"【效能對比】\")\n",
    "print(\"=\" * 80)\n",
    "print(f\"不同 server 實例:\")\n",
    "print(f\"  查詢 1: {times_separate[0]:.2f}ms\")\n",
    "print(f\"  查詢 2: {times_separate[1]:.2f}ms\")\n",
    "print(f\"  → 都是 API 呼叫，時間相近\")\n",
    "\n",
    "print(f\"\\n相同 server 實例:\")\n",
    "print(f\"  查詢 1: {times_same[0]:.2f}ms (API 呼叫)\")\n",
    "print(f\"  查詢 2: {times_same[1]:.2f}ms (快取讀取)\")\n",
    "if times_same[1] < times_same[0] * 0.5:\n",
    "    print(f\"  → 加速 {times_same[0]/times_same[1]:.1f}x! ✨\")\n"
   ]
  },
  {
   "cell_type": "markdown",
   "id": "09bd7ee4",
   "metadata": {},
   "source": [
    "\n",
    "\n",
    "---\n",
    "\n",
    "## \udccb 快速參考：遷移指南\n",
    "\n",
    "### 原始模式（不推薦）\n",
    "```python\n",
    "# ❌ 分離的 server 實例 - 快取無效\n",
    "async with MCPServerStdio(...) as server:\n",
    "    result1 = await server.session.call_tool(\"get_taiwan_stock_price\", {\"symbol\": \"2317\"})\n",
    "\n",
    "async with MCPServerStdio(...) as server:  # 新進程！\n",
    "    result2 = await server.session.call_tool(\"get_taiwan_stock_price\", {\"symbol\": \"台積電\"})\n",
    "\n",
    "async with MCPServerStdio(...) as server:  # 又是新進程！\n",
    "    result3 = await server.session.call_tool(\"get_taiwan_stock_price\", {\"symbol\": \"0050\"})\n",
    "```\n",
    "\n",
    "### 改進模式（推薦）\n",
    "```python\n",
    "# ✅ 統一的 server 實例 - 快取有效\n",
    "async with MCPServerStdio(...) as server:\n",
    "    result1 = await server.session.call_tool(\"get_taiwan_stock_price\", {\"symbol\": \"2317\"})\n",
    "    time.sleep(0.3)\n",
    "    \n",
    "    result2 = await server.session.call_tool(\"get_taiwan_stock_price\", {\"symbol\": \"台積電\"})\n",
    "    time.sleep(0.3)\n",
    "    \n",
    "    result3 = await server.session.call_tool(\"get_taiwan_stock_price\", {\"symbol\": \"0050\"})\n",
    "```\n",
    "\n",
    "### 關鍵差異\n",
    "| 項目 | 原始模式 | 改進模式 |\n",
    "|------|--------|--------|\n",
    "| Server 實例數 | 多個 | 1 個 |\n",
    "| 進程數 | 多個 | 1 個 |\n",
    "| 快取有效性 | ❌ 無 | ✅ 有 |\n",
    "| 響應時間 | ⏱️ 都很長 | ⚡ 第 2+ 次快速 |\n",
    "| 日誌記錄 | 沒有快取日誌 | 有 `[快取命中]` 日誌 |\n",
    "| API 呼叫數 | 多次 | 少次 |\n",
    "\n",
    "---\n"
   ]
  },
  {
   "cell_type": "code",
   "execution_count": null,
   "id": "4c2bd5c9",
   "metadata": {},
   "outputs": [],
   "source": [
    "# 測試不同的股票代碼（MCP 連接已修復）- 美化 JSON 結果顯示\n",
    "async with MCPServerStdio(params=params, client_session_timeout_seconds=60) as server:\n",
    "    result = await server.session.call_tool(\n",
    "        \"get_taiwan_stock_price\",\n",
    "        {\"symbol\": \"2317\"}\n",
    "    )\n",
    "    print(json.dumps(result.structuredContent, ensure_ascii=False, indent=2))\n"
   ]
  },
  {
   "cell_type": "code",
   "execution_count": null,
   "id": "3834c258",
   "metadata": {},
   "outputs": [],
   "source": [
    "# 測試：使用公司名稱查詢\n",
    "async with MCPServerStdio(params=params, client_session_timeout_seconds=60) as server:\n",
    "    result = await server.session.call_tool(\n",
    "        \"get_taiwan_stock_price\",\n",
    "        {\"symbol\": \"台積電\"}\n",
    "    )\n",
    "    print(json.dumps(result.structuredContent, ensure_ascii=False, indent=2))"
   ]
  },
  {
   "cell_type": "code",
   "execution_count": null,
   "id": "cb2e2702",
   "metadata": {},
   "outputs": [],
   "source": [
    "# 測試：查詢ETF\n",
    "async with MCPServerStdio(params=params, client_session_timeout_seconds=60) as server:\n",
    "    result = await server.session.call_tool(\n",
    "        \"get_taiwan_stock_price\",\n",
    "        {\"symbol\": \"取得0050股價\"}\n",
    "    )\n",
    "    print(json.dumps(result.structuredContent, ensure_ascii=False, indent=2))"
   ]
  },
  {
   "cell_type": "markdown",
   "id": "e3957d4b",
   "metadata": {},
   "source": [
    "### 1.2 模擬股票買賣"
   ]
  },
  {
   "cell_type": "code",
   "execution_count": null,
   "id": "b1920f27",
   "metadata": {},
   "outputs": [],
   "source": [
    "# 測試：市價買入\n",
    "async with MCPServerStdio(params=params, client_session_timeout_seconds=60) as server:\n",
    "    result = await server.session.call_tool(\n",
    "        \"buy_taiwan_stock\",\n",
    "        {\n",
    "            \"symbol\": \"0050\",\n",
    "            \"quantity\": 5000\n",
    "        }\n",
    "    )\n",
    "    print(json.dumps(result.structuredContent, ensure_ascii=False, indent=2))"
   ]
  },
  {
   "cell_type": "code",
   "execution_count": null,
   "id": "58118b11",
   "metadata": {},
   "outputs": [],
   "source": [
    "# 測試：限價買入\n",
    "async with MCPServerStdio(params=params, client_session_timeout_seconds=60) as server:\n",
    "    result = await server.session.call_tool(\n",
    "        \"buy_taiwan_stock\",\n",
    "        {\n",
    "            \"symbol\": \"2330\",\n",
    "            \"quantity\": 2000,\n",
    "            \"price\": 500\n",
    "        }\n",
    "    )\n",
    "    print(json.dumps(result.structuredContent, ensure_ascii=False, indent=2))"
   ]
  },
  {
   "cell_type": "code",
   "execution_count": null,
   "id": "56489c02",
   "metadata": {},
   "outputs": [],
   "source": [
    "# 測試：市價賣出\n",
    "async with MCPServerStdio(params=params, client_session_timeout_seconds=60) as server:\n",
    "    result = await server.session.call_tool(\n",
    "        \"sell_taiwan_stock\",\n",
    "        {\n",
    "            \"symbol\": \"2330\",\n",
    "            \"quantity\": 1000\n",
    "        }\n",
    "    )\n",
    "    print(json.dumps(result.structuredContent, ensure_ascii=False, indent=2))"
   ]
  },
  {
   "cell_type": "code",
   "execution_count": null,
   "id": "4d8cacaa",
   "metadata": {},
   "outputs": [],
   "source": [
    "# 測試：限價賣出\n",
    "async with MCPServerStdio(params=params, client_session_timeout_seconds=60) as server:\n",
    "    result = await server.session.call_tool(\n",
    "        \"sell_taiwan_stock\",\n",
    "        {\n",
    "            \"symbol\": \"2330\",\n",
    "            \"quantity\": 1000,\n",
    "            \"price\":550\n",
    "        }\n",
    "    )\n",
    "    print(json.dumps(result.structuredContent, ensure_ascii=False, indent=2))"
   ]
  },
  {
   "cell_type": "markdown",
   "id": "8133f2d3",
   "metadata": {},
   "source": [
    "### 1.3 日交易統計"
   ]
  },
  {
   "cell_type": "code",
   "execution_count": null,
   "id": "567fa673",
   "metadata": {},
   "outputs": [],
   "source": [
    "# 測試：取得日交易統計\n",
    "async with MCPServerStdio(params=params, client_session_timeout_seconds=60) as server:\n",
    "    result = await server.session.call_tool(\n",
    "        \"get_stock_daily_trading\",\n",
    "        {\n",
    "            \"symbol\": \"2330\",\n",
    "        }\n",
    "    )\n",
    "    print(json.dumps(result.structuredContent, ensure_ascii=False, indent=2))"
   ]
  },
  {
   "cell_type": "markdown",
   "id": "f08e270e",
   "metadata": {},
   "source": [
    "## 2. 財務分析工具測試"
   ]
  },
  {
   "cell_type": "markdown",
   "id": "d8f4db22",
   "metadata": {},
   "source": [
    "### 2.1 損益表與資產負債表"
   ]
  },
  {
   "cell_type": "markdown",
   "id": "568c0426",
   "metadata": {},
   "source": [
    "\n",
    "\n",
    "### 2.0 統一財務工具測試（單一 Server 實例）\n",
    "\n",
    "✅ **最佳實踐**：所有財務工具測試在同一 server 實例中執行\n"
   ]
  },
  {
   "cell_type": "code",
   "execution_count": null,
   "id": "5c95f2e4",
   "metadata": {},
   "outputs": [],
   "source": [
    "import time\n",
    "\n",
    "print(\"=\" * 80)\n",
    "print(\"【財務工具統一測試 - 使用單一 Server 實例】\")\n",
    "print(\"=\" * 80)\n",
    "\n",
    "async with MCPServerStdio(params=params, client_session_timeout_seconds=120) as server:\n",
    "    # 測試 1: 公司基本資訊\n",
    "    print(\"\\n■ 1. 獲取公司基本資訊 (3231) - 第 1 次\")\n",
    "    start = time.time()\n",
    "    result = await server.session.call_tool(\n",
    "        \"get_company_profile\",\n",
    "        {\"symbol\": \"3231\"}\n",
    "    )\n",
    "    time1_1 = (time.time() - start) * 1000\n",
    "    print(f\"  耗時: {time1_1:.2f}ms\")\n",
    "    time.sleep(0.3)\n",
    "\n",
    "    print(\"■ 1. 獲取公司基本資訊 (3231) - 第 2 次（應從快取讀取）\")\n",
    "    start = time.time()\n",
    "    result = await server.session.call_tool(\n",
    "        \"get_company_profile\",\n",
    "        {\"symbol\": \"3231\"}\n",
    "    )\n",
    "    time1_2 = (time.time() - start) * 1000\n",
    "    print(f\"  耗時: {time1_2:.2f}ms ⚡\")\n",
    "    time.sleep(0.3)\n",
    "\n",
    "    # 測試 2: 損益表\n",
    "    print(\"\\n■ 2. 獲取損益表 (一般業) - 第 1 次\")\n",
    "    start = time.time()\n",
    "    result = await server.session.call_tool(\n",
    "        \"get_company_income_statement\",\n",
    "        {\"symbol\": \"3231\"}\n",
    "    )\n",
    "    time2_1 = (time.time() - start) * 1000\n",
    "    print(f\"  耗時: {time2_1:.2f}ms\")\n",
    "    time.sleep(0.3)\n",
    "\n",
    "    print(\"■ 2. 獲取損益表 (一般業) - 第 2 次（應從快取讀取）\")\n",
    "    start = time.time()\n",
    "    result = await server.session.call_tool(\n",
    "        \"get_company_income_statement\",\n",
    "        {\"symbol\": \"3231\"}\n",
    "    )\n",
    "    time2_2 = (time.time() - start) * 1000\n",
    "    print(f\"  耗時: {time2_2:.2f}ms ⚡\")\n",
    "    time.sleep(0.3)\n",
    "\n",
    "    # 測試 3: 資產負債表\n",
    "    print(\"\\n■ 3. 獲取資產負債表 (2330) - 第 1 次\")\n",
    "    start = time.time()\n",
    "    result = await server.session.call_tool(\n",
    "        \"get_company_balance_sheet\",\n",
    "        {\"symbol\": \"2330\"}\n",
    "    )\n",
    "    time3_1 = (time.time() - start) * 1000\n",
    "    print(f\"  耗時: {time3_1:.2f}ms\")\n",
    "    time.sleep(0.3)\n",
    "\n",
    "    print(\"■ 3. 獲取資產負債表 (2330) - 第 2 次（應從快取讀取）\")\n",
    "    start = time.time()\n",
    "    result = await server.session.call_tool(\n",
    "        \"get_company_balance_sheet\",\n",
    "        {\"symbol\": \"2330\"}\n",
    "    )\n",
    "    time3_2 = (time.time() - start) * 1000\n",
    "    print(f\"  耗時: {time3_2:.2f}ms ⚡\")\n",
    "    time.sleep(0.3)\n",
    "\n",
    "    # 測試 4: 股利資訊\n",
    "    print(\"\\n■ 4. 獲取股利資訊 (2330) - 第 1 次\")\n",
    "    start = time.time()\n",
    "    result = await server.session.call_tool(\n",
    "        \"get_company_dividend\",\n",
    "        {\"symbol\": \"2330\"}\n",
    "    )\n",
    "    time4_1 = (time.time() - start) * 1000\n",
    "    print(f\"  耗時: {time4_1:.2f}ms\")\n",
    "    time.sleep(0.3)\n",
    "\n",
    "    print(\"■ 4. 獲取股利資訊 (2330) - 第 2 次（應從快取讀取）\")\n",
    "    start = time.time()\n",
    "    result = await server.session.call_tool(\n",
    "        \"get_company_dividend\",\n",
    "        {\"symbol\": \"2330\"}\n",
    "    )\n",
    "    time4_2 = (time.time() - start) * 1000\n",
    "    print(f\"  耗時: {time4_2:.2f}ms ⚡\")\n",
    "\n",
    "print(\"\\n\" + \"=\" * 80)\n",
    "print(\"【快取效果統計】\")\n",
    "print(\"=\" * 80)\n",
    "print(f\"公司資訊:    {time1_1:.2f}ms → {time1_2:.2f}ms (加速 {time1_1/time1_2:.1f}x)\" if time1_2 > 0 else \"\")\n",
    "print(f\"損益表:      {time2_1:.2f}ms → {time2_2:.2f}ms (加速 {time2_1/time2_2:.1f}x)\" if time2_2 > 0 else \"\")\n",
    "print(f\"資產負債表:  {time3_1:.2f}ms → {time3_2:.2f}ms (加速 {time3_1/time3_2:.1f}x)\" if time3_2 > 0 else \"\")\n",
    "print(f\"股利資訊:    {time4_1:.2f}ms → {time4_2:.2f}ms (加速 {time4_1/time4_2:.1f}x)\" if time4_2 > 0 else \"\")\n",
    "\n",
    "print(\"\\n✓ 請查看 logs/mcp.log 檔案查看詳細的快取日誌\")\n"
   ]
  },
  {
   "cell_type": "code",
   "execution_count": null,
   "id": "dba0fb39",
   "metadata": {},
   "outputs": [],
   "source": [
    "# 測試：取得綜合損益表 (一般業)\n",
    "async with MCPServerStdio(params=params, client_session_timeout_seconds=60) as server:\n",
    "    result = await server.session.call_tool(\n",
    "        \"get_company_income_statement\",\n",
    "        {\"symbol\": \"3231\"}\n",
    "    )\n",
    "    print(json.dumps(json.loads(result.content[0].text), ensure_ascii=False, indent=2))"
   ]
  },
  {
   "cell_type": "code",
   "execution_count": null,
   "id": "339ee674",
   "metadata": {},
   "outputs": [],
   "source": [
    "# 測試：取得綜合損益表 (金融業)\n",
    "async with MCPServerStdio(params=params, client_session_timeout_seconds=60) as server:\n",
    "    result = await server.session.call_tool(\n",
    "        \"get_company_income_statement\",\n",
    "        {\"symbol\": \"2884\"}\n",
    "    )\n",
    "    print(json.dumps(json.loads(result.content[0].text), ensure_ascii=False, indent=2))"
   ]
  },
  {
   "cell_type": "code",
   "execution_count": null,
   "id": "9a25e489",
   "metadata": {},
   "outputs": [],
   "source": [
    "# 測試：取得資產負債表\n",
    "async with MCPServerStdio(params=params, client_session_timeout_seconds=60) as server:\n",
    "    result = await server.session.call_tool(\n",
    "        \"get_company_balance_sheet\",\n",
    "        {\"symbol\": \"2330\"}\n",
    "    )\n",
    "    print(json.dumps(json.loads(result.content[0].text), ensure_ascii=False, indent=2))"
   ]
  },
  {
   "cell_type": "markdown",
   "id": "fd82745b",
   "metadata": {},
   "source": [
    "### 2.2 公司基本資訊"
   ]
  },
  {
   "cell_type": "code",
   "execution_count": null,
   "id": "538bbf64",
   "metadata": {},
   "outputs": [],
   "source": [
    "# 測試：取得公司基本資訊\n",
    "async with MCPServerStdio(params=params, client_session_timeout_seconds=60) as server:\n",
    "    result = await server.session.call_tool(\n",
    "        \"get_company_profile\",\n",
    "        {\"symbol\": \"3231\"}\n",
    "    )\n",
    "    print(json.dumps(json.loads(result.content[0].text), ensure_ascii=False, indent=2))"
   ]
  },
  {
   "cell_type": "markdown",
   "id": "466271b2",
   "metadata": {},
   "source": [
    "### 2.3 股利資訊"
   ]
  },
  {
   "cell_type": "code",
   "execution_count": null,
   "id": "f40e4b19",
   "metadata": {},
   "outputs": [],
   "source": [
    "# 測試：取得股利分配資訊\n",
    "async with MCPServerStdio(params=params, client_session_timeout_seconds=60) as server:\n",
    "    result = await server.session.call_tool(\n",
    "        \"get_company_dividend\",\n",
    "        {\"symbol\": \"2330\"}\n",
    "    )\n",
    "    print(json.dumps(json.loads(result.content[0].text), ensure_ascii=False, indent=2))"
   ]
  },
  {
   "cell_type": "code",
   "execution_count": null,
   "id": "00d2eb7c",
   "metadata": {},
   "outputs": [],
   "source": [
    "# 測試：取得除權息行事曆 (單一公司)\n",
    "async with MCPServerStdio(params=params, client_session_timeout_seconds=60) as server:\n",
    "    result = await server.session.call_tool(\n",
    "        \"get_dividend_rights_schedule\",\n",
    "        {\"symbol\": \"2330\"}\n",
    "    )\n",
    "    print(json.dumps(json.loads(result.content[0].text), ensure_ascii=False, indent=2))"
   ]
  },
  {
   "cell_type": "code",
   "execution_count": null,
   "id": "75deac58",
   "metadata": {},
   "outputs": [],
   "source": [
    "# 測試：取得除權息行事曆 (所有公司)\n",
    "async with MCPServerStdio(params=params, client_session_timeout_seconds=60) as server:\n",
    "    result = await server.session.call_tool(\n",
    "        \"get_dividend_rights_schedule\",\n",
    "        {\"symbol\": \"\"}\n",
    "    )\n",
    "    print(json.dumps(json.loads(result.content[0].text), ensure_ascii=False, indent=2))"
   ]
  },
  {
   "cell_type": "markdown",
   "id": "0d159b25",
   "metadata": {},
   "source": [
    "### 2.4 營收與估值"
   ]
  },
  {
   "cell_type": "code",
   "execution_count": null,
   "id": "dcc113c8",
   "metadata": {},
   "outputs": [],
   "source": [
    "# 測試：取得月營收\n",
    "async with MCPServerStdio(params=params, client_session_timeout_seconds=60) as server:\n",
    "    result = await server.session.call_tool(\n",
    "        \"get_company_monthly_revenue\", {\"symbol\": \"0050\"}\n",
    "    )\n",
    "    print(json.dumps(json.loads(result.content[0].text), ensure_ascii=False, indent=2))"
   ]
  },
  {
   "cell_type": "code",
   "execution_count": null,
   "id": "f702d4ba",
   "metadata": {},
   "outputs": [],
   "source": [
    "# 測試：取得估值比率\n",
    "async with MCPServerStdio(params=params, client_session_timeout_seconds=60) as server:\n",
    "    result = await server.session.call_tool(\n",
    "        \"get_stock_valuation_ratios\", {\"symbol\": \"0050\"}\n",
    "    )\n",
    "    print(json.dumps(json.loads(result.content[0].text), ensure_ascii=False, indent=2))"
   ]
  },
  {
   "cell_type": "markdown",
   "id": "1cccd900",
   "metadata": {},
   "source": [
    "## 3. 交易統計工具測試"
   ]
  },
  {
   "cell_type": "markdown",
   "id": "f9c5f624",
   "metadata": {},
   "source": [
    "### 3.1 月交易統計"
   ]
  },
  {
   "cell_type": "code",
   "execution_count": null,
   "id": "9eee2e6d",
   "metadata": {},
   "outputs": [],
   "source": [
    "# 測試：取得月交易資訊\n",
    "async with MCPServerStdio(params=params, client_session_timeout_seconds=60) as server:\n",
    "    result = await server.session.call_tool(\n",
    "        \"get_stock_monthly_trading\",\n",
    "        {\"symbol\": \"0050\"}\n",
    "    )\n",
    "    print(json.dumps(json.loads(result.content[0].text), ensure_ascii=False, indent=2))"
   ]
  },
  {
   "cell_type": "code",
   "execution_count": null,
   "id": "0352dfdb",
   "metadata": {},
   "outputs": [],
   "source": [
    "# 測試：取得月平均價格\n",
    "async with MCPServerStdio(params=params, client_session_timeout_seconds=60) as server:\n",
    "    result = await server.session.call_tool(\n",
    "        \"get_stock_monthly_average\",\n",
    "        {\"symbol\": \"2330\"}\n",
    "    )\n",
    "    print(json.dumps(json.loads(result.content[0].text), ensure_ascii=False, indent=2))"
   ]
  },
  {
   "cell_type": "markdown",
   "id": "0764b1ab",
   "metadata": {},
   "source": [
    "### 3.2 年交易統計"
   ]
  },
  {
   "cell_type": "code",
   "execution_count": null,
   "id": "f2804888",
   "metadata": {},
   "outputs": [],
   "source": [
    "# 測試：取得年交易資訊\n",
    "async with MCPServerStdio(params=params, client_session_timeout_seconds=60) as server:\n",
    "    result = await server.session.call_tool(\n",
    "        \"get_stock_yearly_trading\",\n",
    "        {\"symbol\": \"2330\"}\n",
    "    )\n",
    "    print(json.dumps(json.loads(result.content[0].text), ensure_ascii=False, indent=2))"
   ]
  },
  {
   "cell_type": "markdown",
   "id": "0ef98375",
   "metadata": {},
   "source": [
    "## 4. 市場資訊工具測試"
   ]
  },
  {
   "cell_type": "markdown",
   "id": "a5c29283",
   "metadata": {},
   "source": [
    "### 4.1 融資融券"
   ]
  },
  {
   "cell_type": "code",
   "execution_count": null,
   "id": "2e30a2d2",
   "metadata": {},
   "outputs": [],
   "source": [
    "# 測試：取得融資融券資訊\n",
    "async with MCPServerStdio(params=params, client_session_timeout_seconds=60) as server:\n",
    "    result = await server.session.call_tool(\n",
    "        \"get_margin_trading_info\",\n",
    "        {}\n",
    "    )\n",
    "    print(json.dumps(json.loads(result.content[0].text), ensure_ascii=False, indent=2))"
   ]
  },
  {
   "cell_type": "markdown",
   "id": "05d0c256",
   "metadata": {},
   "source": [
    "### 4.2 即時交易統計"
   ]
  },
  {
   "cell_type": "code",
   "execution_count": 8,
   "id": "b9130f10",
   "metadata": {},
   "outputs": [
    {
     "name": "stdout",
     "output_type": "stream",
     "text": [
      "{\n",
      "  \"success\": false,\n",
      "  \"data\": null,\n",
      "  \"error\": \"No real-time trading stats available\",\n",
      "  \"tool\": \"trading_stats\",\n",
      "  \"timestamp\": \"2025-10-21T17:13:23.865733\",\n",
      "  \"metadata\": {}\n",
      "}\n"
     ]
    }
   ],
   "source": [
    "# 測試：取得即時交易統計\n",
    "async with MCPServerStdio(params=params, client_session_timeout_seconds=60) as server:\n",
    "    result = await server.session.call_tool(\n",
    "        \"get_real_time_trading_stats\",\n",
    "        {}\n",
    "    )\n",
    "    print(json.dumps(json.loads(result.content[0].text), ensure_ascii=False, indent=2))"
   ]
  },
  {
   "cell_type": "markdown",
   "id": "fdd74cf2",
   "metadata": {},
   "source": [
    "### 4.3 ETF排名"
   ]
  },
  {
   "cell_type": "code",
   "execution_count": 9,
   "id": "01cc4f6d",
   "metadata": {},
   "outputs": [
    {
     "name": "stdout",
     "output_type": "stream",
     "text": [
      "{\n",
      "  \"success\": true,\n",
      "  \"data\": {\n",
      "    \"ranking_date\": null,\n",
      "    \"rankings\": [\n",
      "      {\n",
      "        \"No\": \"1\",\n",
      "        \"STOCKsSecurityCode\": \"2330\",\n",
      "        \"STOCKsName\": \"台積電\",\n",
      "        \"STOCKsNumberofTradingAccounts\": \"118276\",\n",
      "        \"ETFsSecurityCode\": \"0050\",\n",
      "        \"ETFsName\": \"元大台灣50\",\n",
      "        \"ETFsNumberofTradingAccounts\": \"535855\"\n",
      "      },\n",
      "      {\n",
      "        \"No\": \"2\",\n",
      "        \"STOCKsSecurityCode\": \"2886\",\n",
      "        \"STOCKsName\": \"兆豐金\",\n",
      "        \"STOCKsNumberofTradingAccounts\": \"29805\",\n",
      "        \"ETFsSecurityCode\": \"00878\",\n",
      "        \"ETFsName\": \"國泰永續高股息\",\n",
      "        \"ETFsNumberofTradingAccounts\": \"294924\"\n",
      "      },\n",
      "      {\n",
      "        \"No\": \"3\",\n",
      "        \"STOCKsSecurityCode\": \"2884\",\n",
      "        \"STOCKsName\": \"玉山金\",\n",
      "        \"STOCKsNumberofTradingAccounts\": \"29751\",\n",
      "        \"ETFsSecurityCode\": \"0056\",\n",
      "        \"ETFsName\": \"元大高股息\",\n",
      "        \"ETFsNumberofTradingAccounts\": \"272193\"\n",
      "      },\n",
      "      {\n",
      "        \"No\": \"4\",\n",
      "        \"STOCKsSecurityCode\": \"2317\",\n",
      "        \"STOCKsName\": \"鴻海\",\n",
      "        \"STOCKsNumberofTradingAccounts\": \"19497\",\n",
      "        \"ETFsSecurityCode\": \"006208\",\n",
      "        \"ETFsName\": \"富邦台50\",\n",
      "        \"ETFsNumberofTradingAccounts\": \"241948\"\n",
      "      },\n",
      "      {\n",
      "        \"No\": \"5\",\n",
      "        \"STOCKsSecurityCode\": \"2891\",\n",
      "        \"STOCKsName\": \"中信金\",\n",
      "        \"STOCKsNumberofTradingAccounts\": \"18794\",\n",
      "        \"ETFsSecurityCode\": \"00919\",\n",
      "        \"ETFsName\": \"群益台灣精選高息\",\n",
      "        \"ETFsNumberofTradingAccounts\": \"131716\"\n",
      "      },\n",
      "      {\n",
      "        \"No\": \"6\",\n",
      "        \"STOCKsSecurityCode\": \"2412\",\n",
      "        \"STOCKsName\": \"中華電\",\n",
      "        \"STOCKsNumberofTradingAccounts\": \"17149\",\n",
      "        \"ETFsSecurityCode\": \"00713\",\n",
      "        \"ETFsName\": \"元大台灣高息低波\",\n",
      "        \"ETFsNumberofTradingAccounts\": \"93682\"\n",
      "      },\n",
      "      {\n",
      "        \"No\": \"7\",\n",
      "        \"STOCKsSecurityCode\": \"2892\",\n",
      "        \"STOCKsName\": \"第一金\",\n",
      "        \"STOCKsNumberofTradingAccounts\": \"15548\",\n",
      "        \"ETFsSecurityCode\": \"00881\",\n",
      "        \"ETFsName\": \"國泰台灣科技龍頭\",\n",
      "        \"ETFsNumberofTradingAccounts\": \"32508\"\n",
      "      },\n",
      "      {\n",
      "        \"No\": \"8\",\n",
      "        \"STOCKsSecurityCode\": \"2881\",\n",
      "        \"STOCKsName\": \"富邦金\",\n",
      "        \"STOCKsNumberofTradingAccounts\": \"14671\",\n",
      "        \"ETFsSecurityCode\": \"00692\",\n",
      "        \"ETFsName\": \"富邦公司治理\",\n",
      "        \"ETFsNumberofTradingAccounts\": \"29939\"\n",
      "      },\n",
      "      {\n",
      "        \"No\": \"9\",\n",
      "        \"STOCKsSecurityCode\": \"5880\",\n",
      "        \"STOCKsName\": \"合庫金\",\n",
      "        \"STOCKsNumberofTradingAccounts\": \"13197\",\n",
      "        \"ETFsSecurityCode\": \"00929\",\n",
      "        \"ETFsName\": \"復華台灣科技優息\",\n",
      "        \"ETFsNumberofTradingAccounts\": \"29622\"\n",
      "      },\n",
      "      {\n",
      "        \"No\": \"10\",\n",
      "        \"STOCKsSecurityCode\": \"2885\",\n",
      "        \"STOCKsName\": \"元大金\",\n",
      "        \"STOCKsNumberofTradingAccounts\": \"11312\",\n",
      "        \"ETFsSecurityCode\": \"00757\",\n",
      "        \"ETFsName\": \"統一FANG+\",\n",
      "        \"ETFsNumberofTradingAccounts\": \"28061\"\n",
      "      }\n",
      "    ],\n",
      "    \"total_count\": 20,\n",
      "    \"displayed_count\": 10\n",
      "  },\n",
      "  \"error\": null,\n",
      "  \"tool\": \"etf_ranking\",\n",
      "  \"timestamp\": \"2025-10-21T17:13:32.101915\",\n",
      "  \"metadata\": {\n",
      "    \"source\": \"TWSE ETF Report\"\n",
      "  }\n",
      "}\n"
     ]
    }
   ],
   "source": [
    "# 測試：取得ETF定期定額排名\n",
    "async with MCPServerStdio(params=params, client_session_timeout_seconds=60) as server:\n",
    "    result = await server.session.call_tool(\n",
    "        \"get_etf_regular_investment_ranking\",\n",
    "        {}\n",
    "    )\n",
    "    print(json.dumps(json.loads(result.content[0].text), ensure_ascii=False, indent=2))"
   ]
  },
  {
   "cell_type": "markdown",
   "id": "1fccfc5b",
   "metadata": {},
   "source": [
    "### 4.4 市場指數"
   ]
  },
  {
   "cell_type": "code",
   "execution_count": null,
   "id": "cdcccdb3",
   "metadata": {},
   "outputs": [],
   "source": [
    "# 測試：取得發行量加權股價指數\n",
    "async with MCPServerStdio(params=params, client_session_timeout_seconds=60) as server:\n",
    "    result = await server.session.call_tool(\n",
    "        \"get_market_index_info\",\n",
    "        {}\n",
    "    )\n",
    "    print(json.dumps(json.loads(result.content[0].text), ensure_ascii=False, indent=2))"
   ]
  },
  {
   "cell_type": "markdown",
   "id": "56141be4",
   "metadata": {},
   "source": [
    "### 4.5 歷史指數"
   ]
  },
  {
   "cell_type": "code",
   "execution_count": null,
   "id": "73ca8559",
   "metadata": {},
   "outputs": [],
   "source": [
    "# 測試：取得歷史指數資料\n",
    "async with MCPServerStdio(params=params, client_session_timeout_seconds=60) as server:\n",
    "    result = await server.session.call_tool(\n",
    "        \"get_market_historical_index\",\n",
    "        {}\n",
    "    )\n",
    "    print(json.dumps(json.loads(result.content[0].text), ensure_ascii=False, indent=2))"
   ]
  },
  {
   "cell_type": "markdown",
   "id": "fe1e6509",
   "metadata": {},
   "source": [
    "## 5. 外資工具測試"
   ]
  },
  {
   "cell_type": "markdown",
   "id": "aa33e85c",
   "metadata": {},
   "source": [
    "### 5.1 外資持股（按產業）"
   ]
  },
  {
   "cell_type": "code",
   "execution_count": null,
   "id": "9adddc91",
   "metadata": {},
   "outputs": [],
   "source": [
    "# 測試：取得外資各產業持股\n",
    "async with MCPServerStdio(params=params, client_session_timeout_seconds=60) as server:\n",
    "    result = await server.session.call_tool(\n",
    "        \"get_foreign_investment_by_industry\",\n",
    "        {\"count\": 8}\n",
    "    )\n",
    "    print(json.dumps(json.loads(result.content[0].text), ensure_ascii=False, indent=2))"
   ]
  },
  {
   "cell_type": "markdown",
   "id": "73f4ac23",
   "metadata": {},
   "source": [
    "### 5.2 外資持股前20名"
   ]
  },
  {
   "cell_type": "code",
   "execution_count": null,
   "id": "8c89a90d",
   "metadata": {},
   "outputs": [],
   "source": [
    "# 測試：取得外資持股前20名\n",
    "async with MCPServerStdio(params=params, client_session_timeout_seconds=60) as server:\n",
    "    result = await server.session.call_tool(\n",
    "        \"get_top_foreign_holdings\",\n",
    "        {}\n",
    "    )\n",
    "    print(json.dumps(json.loads(result.content[0].text), ensure_ascii=False, indent=2))"
   ]
  },
  {
   "cell_type": "markdown",
   "id": "9f2135ce",
   "metadata": {},
   "source": [
    "## 6. 節假日工具測試"
   ]
  },
  {
   "cell_type": "markdown",
   "id": "f21a4a70",
   "metadata": {},
   "source": [
    "### 6.1 節假日資訊"
   ]
  },
  {
   "cell_type": "code",
   "execution_count": null,
   "id": "47f8d300",
   "metadata": {},
   "outputs": [],
   "source": [
    "# 測試：查詢元旦\n",
    "async with MCPServerStdio(params=params, client_session_timeout_seconds=60) as server:\n",
    "    result = await server.session.call_tool(\n",
    "        \"get_taiwan_holiday_info\",\n",
    "        {\"date\": \"2025-01-01\"}\n",
    "    )\n",
    "    print(json.dumps(json.loads(result.content[0].text), ensure_ascii=False, indent=2))"
   ]
  },
  {
   "cell_type": "code",
   "execution_count": null,
   "id": "55f600bd",
   "metadata": {},
   "outputs": [],
   "source": [
    "# 測試：查詢中秋節\n",
    "async with MCPServerStdio(params=params, client_session_timeout_seconds=60) as server:\n",
    "    result = await server.session.call_tool(\n",
    "        \"get_taiwan_holiday_info\",\n",
    "        {\"date\": \"2025-10-06\"}\n",
    "    )\n",
    "    print(json.dumps(json.loads(result.content[0].text), ensure_ascii=False, indent=2))"
   ]
  },
  {
   "cell_type": "code",
   "execution_count": null,
   "id": "89ddb7c2",
   "metadata": {},
   "outputs": [],
   "source": [
    "# 測試：查詢一般工作日\n",
    "async with MCPServerStdio(params=params, client_session_timeout_seconds=60) as server:\n",
    "    result = await server.session.call_tool(\n",
    "        \"get_taiwan_holiday_info\",\n",
    "        {\"date\": \"2025-10-07\"}\n",
    "    )\n",
    "    print(json.dumps(json.loads(result.content[0].text), ensure_ascii=False, indent=2))"
   ]
  },
  {
   "cell_type": "markdown",
   "id": "177d786f",
   "metadata": {},
   "source": [
    "### 6.2 交易日檢查"
   ]
  },
  {
   "cell_type": "code",
   "execution_count": null,
   "id": "e3da6c06",
   "metadata": {},
   "outputs": [],
   "source": [
    "# 測試：檢查元旦是否為交易日\n",
    "async with MCPServerStdio(params=params, client_session_timeout_seconds=60) as server:\n",
    "    result = await server.session.call_tool(\n",
    "        \"check_taiwan_trading_day\",\n",
    "        {\"date\": \"2025-01-01\"}\n",
    "    )\n",
    "    print(json.dumps(json.loads(result.content[0].text), ensure_ascii=False, indent=2))"
   ]
  },
  {
   "cell_type": "code",
   "execution_count": null,
   "id": "3bc5e650",
   "metadata": {},
   "outputs": [],
   "source": [
    "# 測試：檢查週六是否為交易日\n",
    "async with MCPServerStdio(params=params, client_session_timeout_seconds=60) as server:\n",
    "    result = await server.session.call_tool(\n",
    "        \"check_taiwan_trading_day\",\n",
    "        {\"date\": \"2025-10-11\"}\n",
    "    )\n",
    "    print(json.dumps(json.loads(result.content[0].text), ensure_ascii=False, indent=2))"
   ]
  },
  {
   "cell_type": "code",
   "execution_count": null,
   "id": "1d85a8f9",
   "metadata": {},
   "outputs": [],
   "source": [
    "# 測試：檢查一般工作日是否為交易日\n",
    "async with MCPServerStdio(params=params, client_session_timeout_seconds=60) as server:\n",
    "    result = await server.session.call_tool(\n",
    "        \"check_taiwan_trading_day\",\n",
    "        {\"date\": \"2025-10-07\"}\n",
    "    )\n",
    "    print(json.dumps(json.loads(result.content[0].text), ensure_ascii=False, indent=2))"
   ]
  }
 ],
 "metadata": {
  "kernelspec": {
   "display_name": ".venv",
   "language": "python",
   "name": "python3"
  },
  "language_info": {
   "codemirror_mode": {
    "name": "ipython",
    "version": 3
   },
   "file_extension": ".py",
   "mimetype": "text/x-python",
   "name": "python",
   "nbconvert_exporter": "python",
   "pygments_lexer": "ipython3",
   "version": "3.12.8"
  }
 },
 "nbformat": 4,
 "nbformat_minor": 5
}
