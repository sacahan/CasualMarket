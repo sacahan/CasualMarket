{
 "cells": [
  {
   "cell_type": "markdown",
   "id": "47057032",
   "metadata": {},
   "source": [
    "# CasualMarket MCP 工具測試手冊\n",
    "\n"
   ]
  },
  {
   "cell_type": "code",
   "execution_count": 6,
   "id": "e7037a1e",
   "metadata": {},
   "outputs": [],
   "source": [
    "from agents.mcp import MCPServerStdio\n",
    "import json\n",
    "\n",
    "# 修復後的參數設定 - 這是正確的配置\n",
    "params = {\n",
    "    \"command\": \"uv\",\n",
    "    \"args\": [\n",
    "        \"run\",\n",
    "        \"--directory\", \"/Users/sacahan/Documents/workspace/CasualMarket\",\n",
    "        \"python\", \"-m\", \"src.main\"\n",
    "    ],\n",
    "    \"env\": {\n",
    "        \"MARKET_MCP_LOG_FILE\": \"./logs/mcp.log\"\n",
    "    }\n",
    "}"
   ]
  },
  {
   "cell_type": "markdown",
   "id": "4457d700",
   "metadata": {},
   "source": [
    "## 1. 交易相關工具測試"
   ]
  },
  {
   "cell_type": "markdown",
   "id": "5fd5a064",
   "metadata": {},
   "source": [
    "### 1.1 取得台灣股票即時價格"
   ]
  },
  {
   "cell_type": "code",
   "execution_count": 5,
   "id": "4c2bd5c9",
   "metadata": {},
   "outputs": [
    {
     "name": "stdout",
     "output_type": "stream",
     "text": [
      "{\n",
      "  \"success\": true,\n",
      "  \"data\": {\n",
      "    \"symbol\": \"2317\",\n",
      "    \"company_name\": \"鴻海精密工業股份有限公司\",\n",
      "    \"current_price\": 239.0,\n",
      "    \"change\": 0.5,\n",
      "    \"change_percent\": 0.0020964360587002098,\n",
      "    \"volume\": 117673,\n",
      "    \"high\": 245.5,\n",
      "    \"low\": 238.0,\n",
      "    \"open\": 241.5,\n",
      "    \"previous_close\": 238.5,\n",
      "    \"last_update\": \"2025-10-21T14:30:00\"\n",
      "  },\n",
      "  \"error\": null,\n",
      "  \"tool\": \"stock_price\",\n",
      "  \"timestamp\": \"2025-10-21T15:29:33.361457\",\n",
      "  \"metadata\": {\n",
      "    \"symbol\": \"2317\"\n",
      "  }\n",
      "}\n"
     ]
    }
   ],
   "source": [
    "# 測試不同的股票代碼（MCP 連接已修復）- 美化 JSON 結果顯示\n",
    "async with MCPServerStdio(params=params, client_session_timeout_seconds=60) as server:\n",
    "    result = await server.session.call_tool(\n",
    "        \"get_taiwan_stock_price\",\n",
    "        {\"symbol\": \"2317\"}\n",
    "    )\n",
    "    print(json.dumps(result.structuredContent, ensure_ascii=False, indent=2))\n"
   ]
  },
  {
   "cell_type": "code",
   "execution_count": 7,
   "id": "3834c258",
   "metadata": {},
   "outputs": [
    {
     "name": "stdout",
     "output_type": "stream",
     "text": [
      "{\n",
      "  \"success\": true,\n",
      "  \"data\": {\n",
      "    \"symbol\": \"2330\",\n",
      "    \"company_name\": \"台灣積體電路製造股份有限公司\",\n",
      "    \"current_price\": 1480.0,\n",
      "    \"change\": 0.0,\n",
      "    \"change_percent\": 0.0,\n",
      "    \"volume\": 34476,\n",
      "    \"high\": 1500.0,\n",
      "    \"low\": 1480.0,\n",
      "    \"open\": 1485.0,\n",
      "    \"previous_close\": 1480.0,\n",
      "    \"last_update\": \"2025-10-21T14:30:00\"\n",
      "  },\n",
      "  \"error\": null,\n",
      "  \"tool\": \"stock_price\",\n",
      "  \"timestamp\": \"2025-10-21T15:30:33.319399\",\n",
      "  \"metadata\": {\n",
      "    \"symbol\": \"台積電\"\n",
      "  }\n",
      "}\n"
     ]
    }
   ],
   "source": [
    "# 測試：使用公司名稱查詢\n",
    "async with MCPServerStdio(params=params, client_session_timeout_seconds=60) as server:\n",
    "    result = await server.session.call_tool(\n",
    "        \"get_taiwan_stock_price\",\n",
    "        {\"symbol\": \"台積電\"}\n",
    "    )\n",
    "    print(json.dumps(result.structuredContent, ensure_ascii=False, indent=2))"
   ]
  },
  {
   "cell_type": "code",
   "execution_count": 8,
   "id": "cb2e2702",
   "metadata": {},
   "outputs": [
    {
     "name": "stdout",
     "output_type": "stream",
     "text": [
      "{\n",
      "  \"success\": false,\n",
      "  \"data\": null,\n",
      "  \"error\": \"無效的股票代號格式: 取得0050股價\",\n",
      "  \"tool\": \"stock_price\",\n",
      "  \"timestamp\": \"2025-10-21T15:30:47.791850\",\n",
      "  \"metadata\": {\n",
      "    \"symbol\": \"取得0050股價\"\n",
      "  }\n",
      "}\n"
     ]
    }
   ],
   "source": [
    "# 測試：查詢ETF\n",
    "async with MCPServerStdio(params=params, client_session_timeout_seconds=60) as server:\n",
    "    result = await server.session.call_tool(\n",
    "        \"get_taiwan_stock_price\",\n",
    "        {\"symbol\": \"取得0050股價\"}\n",
    "    )\n",
    "    print(json.dumps(result.structuredContent, ensure_ascii=False, indent=2))"
   ]
  },
  {
   "cell_type": "markdown",
   "id": "e3957d4b",
   "metadata": {},
   "source": [
    "### 1.2 模擬股票買賣"
   ]
  },
  {
   "cell_type": "code",
   "execution_count": 9,
   "id": "b1920f27",
   "metadata": {},
   "outputs": [
    {
     "name": "stdout",
     "output_type": "stream",
     "text": [
      "{\n",
      "  \"success\": true,\n",
      "  \"data\": {\n",
      "    \"order\": {\n",
      "      \"action\": \"buy\",\n",
      "      \"symbol\": \"0050\",\n",
      "      \"name\": \"元大台灣卓越50證券投資信託基金\",\n",
      "      \"quantity\": 5000,\n",
      "      \"price\": 63.2,\n",
      "      \"total_amount\": 316000.0,\n",
      "      \"current_price\": 63.2,\n",
      "      \"order_type\": \"market\",\n",
      "      \"executed\": true,\n",
      "      \"message\": \"市價單立即成交\",\n",
      "      \"timestamp\": \"2025-10-21T14:30:00\"\n",
      "    }\n",
      "  },\n",
      "  \"error\": null,\n",
      "  \"tool\": \"stock_trading\",\n",
      "  \"timestamp\": \"2025-10-21T15:30:55.419355\",\n",
      "  \"metadata\": {\n",
      "    \"status\": \"success\"\n",
      "  }\n",
      "}\n"
     ]
    }
   ],
   "source": [
    "# 測試：市價買入\n",
    "async with MCPServerStdio(params=params, client_session_timeout_seconds=60) as server:\n",
    "    result = await server.session.call_tool(\n",
    "        \"buy_taiwan_stock\",\n",
    "        {\n",
    "            \"symbol\": \"0050\",\n",
    "            \"quantity\": 5000\n",
    "        }\n",
    "    )\n",
    "    print(json.dumps(result.structuredContent, ensure_ascii=False, indent=2))"
   ]
  },
  {
   "cell_type": "code",
   "execution_count": 10,
   "id": "58118b11",
   "metadata": {},
   "outputs": [
    {
     "name": "stdout",
     "output_type": "stream",
     "text": [
      "{\n",
      "  \"success\": true,\n",
      "  \"data\": {\n",
      "    \"order\": {\n",
      "      \"action\": \"buy\",\n",
      "      \"symbol\": \"2330\",\n",
      "      \"name\": \"台灣積體電路製造股份有限公司\",\n",
      "      \"quantity\": 2000,\n",
      "      \"price\": 500.0,\n",
      "      \"total_amount\": 1000000.0,\n",
      "      \"current_price\": 1480.0,\n",
      "      \"order_type\": \"limit\",\n",
      "      \"executed\": false,\n",
      "      \"message\": \"限價買單無法成交（出價 500.0 < 市價 1480.0）\",\n",
      "      \"timestamp\": \"2025-10-21T14:30:00\"\n",
      "    }\n",
      "  },\n",
      "  \"error\": null,\n",
      "  \"tool\": \"stock_trading\",\n",
      "  \"timestamp\": \"2025-10-21T15:31:04.231020\",\n",
      "  \"metadata\": {\n",
      "    \"status\": \"failed\"\n",
      "  }\n",
      "}\n"
     ]
    }
   ],
   "source": [
    "# 測試：限價買入\n",
    "async with MCPServerStdio(params=params, client_session_timeout_seconds=60) as server:\n",
    "    result = await server.session.call_tool(\n",
    "        \"buy_taiwan_stock\",\n",
    "        {\n",
    "            \"symbol\": \"2330\",\n",
    "            \"quantity\": 2000,\n",
    "            \"price\": 500\n",
    "        }\n",
    "    )\n",
    "    print(json.dumps(result.structuredContent, ensure_ascii=False, indent=2))"
   ]
  },
  {
   "cell_type": "code",
   "execution_count": null,
   "id": "56489c02",
   "metadata": {},
   "outputs": [],
   "source": [
    "# 測試：市價賣出\n",
    "async with MCPServerStdio(params=params, client_session_timeout_seconds=60) as server:\n",
    "    result = await server.session.call_tool(\n",
    "        \"sell_taiwan_stock\",\n",
    "        {\n",
    "            \"symbol\": \"2330\",\n",
    "            \"quantity\": 1000\n",
    "        }\n",
    "    )\n",
    "    print(json.dumps(result.structuredContent, ensure_ascii=False, indent=2))"
   ]
  },
  {
   "cell_type": "code",
   "execution_count": null,
   "id": "4d8cacaa",
   "metadata": {},
   "outputs": [],
   "source": [
    "# 測試：限價賣出\n",
    "async with MCPServerStdio(params=params, client_session_timeout_seconds=60) as server:\n",
    "    result = await server.session.call_tool(\n",
    "        \"sell_taiwan_stock\",\n",
    "        {\n",
    "            \"symbol\": \"2330\",\n",
    "            \"quantity\": 1000,\n",
    "            \"price\":550\n",
    "        }\n",
    "    )\n",
    "    print(json.dumps(result.structuredContent, ensure_ascii=False, indent=2))"
   ]
  },
  {
   "cell_type": "markdown",
   "id": "8133f2d3",
   "metadata": {},
   "source": [
    "### 1.3 日交易統計"
   ]
  },
  {
   "cell_type": "code",
   "execution_count": null,
   "id": "567fa673",
   "metadata": {},
   "outputs": [],
   "source": [
    "# 測試：取得日交易統計\n",
    "async with MCPServerStdio(params=params, client_session_timeout_seconds=60) as server:\n",
    "    result = await server.session.call_tool(\n",
    "        \"get_stock_daily_trading\",\n",
    "        {\n",
    "            \"symbol\": \"2330\",\n",
    "        }\n",
    "    )\n",
    "    print(json.dumps(result.structuredContent, ensure_ascii=False, indent=2))"
   ]
  },
  {
   "cell_type": "markdown",
   "id": "f08e270e",
   "metadata": {},
   "source": [
    "## 2. 財務分析工具測試"
   ]
  },
  {
   "cell_type": "markdown",
   "id": "d8f4db22",
   "metadata": {},
   "source": [
    "### 2.1 損益表與資產負債表"
   ]
  },
  {
   "cell_type": "code",
   "execution_count": 12,
   "id": "dba0fb39",
   "metadata": {},
   "outputs": [
    {
     "name": "stdout",
     "output_type": "stream",
     "text": [
      "{\n",
      "  \"success\": true,\n",
      "  \"data\": {\n",
      "    \"raw_data\": {\n",
      "      \"出表日期\": \"1141021\",\n",
      "      \"年度\": \"114\",\n",
      "      \"季別\": \"2\",\n",
      "      \"公司代號\": \"3231\",\n",
      "      \"公司名稱\": \"緯創\",\n",
      "      \"營業收入\": \"897776520.00\",\n",
      "      \"營業成本\": \"846267473.00\",\n",
      "      \"原始認列生物資產及農產品之利益（損失）\": \"\",\n",
      "      \"生物資產當期公允價值減出售成本之變動利益（損失）\": \"\",\n",
      "      \"營業毛利（毛損）\": \"51509047.00\",\n",
      "      \"未實現銷貨（損）益\": \"\",\n",
      "      \"已實現銷貨（損）益\": \"\",\n",
      "      \"營業毛利（毛損）淨額\": \"51509047.00\",\n",
      "      \"營業費用\": \"25571760.00\",\n",
      "      \"其他收益及費損淨額\": \"\",\n",
      "      \"營業利益（損失）\": \"25937287.00\",\n",
      "      \"營業外收入及支出\": \"7012854.00\",\n",
      "      \"稅前淨利（淨損）\": \"32950141.00\",\n",
      "      \"所得稅費用（利益）\": \"8043469.00\",\n",
      "      \"繼續營業單位本期淨利（淨損）\": \"24906672.00\",\n",
      "      \"停業單位損益\": \"\",\n",
      "      \"合併前非屬共同控制股權損益\": \"\",\n",
      "      \"本期淨利（淨損）\": \"24906672.00\",\n",
      "      \"其他綜合損益（淨額）\": \"-14735117.00\",\n",
      "      \"合併前非屬共同控制股權綜合損益淨額\": \"\",\n",
      "      \"本期綜合損益總額\": \"10171555.00\",\n",
      "      \"淨利（淨損）歸屬於母公司業主\": \"11835345.00\",\n",
      "      \"淨利（淨損）歸屬於共同控制下前手權益\": \"\",\n",
      "      \"淨利（淨損）歸屬於非控制權益\": \"13071327.00\",\n",
      "      \"綜合損益總額歸屬於母公司業主\": \"347386.00\",\n",
      "      \"綜合損益總額歸屬於共同控制下前手權益\": \"\",\n",
      "      \"綜合損益總額歸屬於非控制權益\": \"9824169.00\",\n",
      "      \"基本每股盈餘（元）\": \"4.06\"\n",
      "    },\n",
      "    \"key_metrics\": {\n",
      "      \"revenue\": \"897776520.00\",\n",
      "      \"operating_income\": \"N/A\",\n",
      "      \"net_income\": \"N/A\",\n",
      "      \"earnings_per_share\": \"N/A\"\n",
      "    }\n",
      "  },\n",
      "  \"error\": null,\n",
      "  \"tool\": \"financial_statements\",\n",
      "  \"timestamp\": \"2025-10-21T15:32:01.931573\",\n",
      "  \"metadata\": {\n",
      "    \"company_code\": \"3231\",\n",
      "    \"statement_type\": \"綜合損益表\",\n",
      "    \"industry_format\": \"_ci\",\n",
      "    \"source\": \"TWSE OpenAPI\"\n",
      "  }\n",
      "}\n"
     ]
    }
   ],
   "source": [
    "# 測試：取得綜合損益表 (一般業)\n",
    "async with MCPServerStdio(params=params, client_session_timeout_seconds=60) as server:\n",
    "    result = await server.session.call_tool(\n",
    "        \"get_company_income_statement\",\n",
    "        {\"symbol\": \"3231\"}\n",
    "    )\n",
    "    print(json.dumps(json.loads(result.content[0].text), ensure_ascii=False, indent=2))"
   ]
  },
  {
   "cell_type": "code",
   "execution_count": null,
   "id": "339ee674",
   "metadata": {},
   "outputs": [],
   "source": [
    "# 測試：取得綜合損益表 (金融業)\n",
    "async with MCPServerStdio(params=params, client_session_timeout_seconds=60) as server:\n",
    "    result = await server.session.call_tool(\n",
    "        \"get_company_income_statement\",\n",
    "        {\"symbol\": \"2884\"}\n",
    "    )\n",
    "    print(json.dumps(json.loads(result.content[0].text), ensure_ascii=False, indent=2))"
   ]
  },
  {
   "cell_type": "code",
   "execution_count": null,
   "id": "9a25e489",
   "metadata": {},
   "outputs": [],
   "source": [
    "# 測試：取得資產負債表\n",
    "async with MCPServerStdio(params=params, client_session_timeout_seconds=60) as server:\n",
    "    result = await server.session.call_tool(\n",
    "        \"get_company_balance_sheet\",\n",
    "        {\"symbol\": \"2330\"}\n",
    "    )\n",
    "    print(json.dumps(json.loads(result.content[0].text), ensure_ascii=False, indent=2))"
   ]
  },
  {
   "cell_type": "markdown",
   "id": "fd82745b",
   "metadata": {},
   "source": [
    "### 2.2 公司基本資訊"
   ]
  },
  {
   "cell_type": "code",
   "execution_count": null,
   "id": "538bbf64",
   "metadata": {},
   "outputs": [],
   "source": [
    "# 測試：取得公司基本資訊\n",
    "async with MCPServerStdio(params=params, client_session_timeout_seconds=60) as server:\n",
    "    result = await server.session.call_tool(\n",
    "        \"get_company_profile\",\n",
    "        {\"symbol\": \"2330\"}\n",
    "    )\n",
    "    print(json.dumps(json.loads(result.content[0].text), ensure_ascii=False, indent=2))"
   ]
  },
  {
   "cell_type": "markdown",
   "id": "466271b2",
   "metadata": {},
   "source": [
    "### 2.3 股利資訊"
   ]
  },
  {
   "cell_type": "code",
   "execution_count": null,
   "id": "f40e4b19",
   "metadata": {},
   "outputs": [],
   "source": [
    "# 測試：取得股利分配資訊\n",
    "async with MCPServerStdio(params=params, client_session_timeout_seconds=60) as server:\n",
    "    result = await server.session.call_tool(\n",
    "        \"get_company_dividend\",\n",
    "        {\"symbol\": \"2330\"}\n",
    "    )\n",
    "    print(json.dumps(json.loads(result.content[0].text), ensure_ascii=False, indent=2))"
   ]
  },
  {
   "cell_type": "code",
   "execution_count": null,
   "id": "00d2eb7c",
   "metadata": {},
   "outputs": [],
   "source": [
    "# 測試：取得除權息行事曆 (單一公司)\n",
    "async with MCPServerStdio(params=params, client_session_timeout_seconds=60) as server:\n",
    "    result = await server.session.call_tool(\n",
    "        \"get_dividend_rights_schedule\",\n",
    "        {\"symbol\": \"2330\"}\n",
    "    )\n",
    "    print(json.dumps(json.loads(result.content[0].text), ensure_ascii=False, indent=2))"
   ]
  },
  {
   "cell_type": "code",
   "execution_count": null,
   "id": "75deac58",
   "metadata": {},
   "outputs": [],
   "source": [
    "# 測試：取得除權息行事曆 (所有公司)\n",
    "async with MCPServerStdio(params=params, client_session_timeout_seconds=60) as server:\n",
    "    result = await server.session.call_tool(\n",
    "        \"get_dividend_rights_schedule\",\n",
    "        {\"symbol\": \"\"}\n",
    "    )\n",
    "    print(json.dumps(json.loads(result.content[0].text), ensure_ascii=False, indent=2))"
   ]
  },
  {
   "cell_type": "markdown",
   "id": "0d159b25",
   "metadata": {},
   "source": [
    "### 2.4 營收與估值"
   ]
  },
  {
   "cell_type": "code",
   "execution_count": null,
   "id": "dcc113c8",
   "metadata": {},
   "outputs": [],
   "source": [
    "# 測試：取得月營收\n",
    "async with MCPServerStdio(params=params, client_session_timeout_seconds=60) as server:\n",
    "    result = await server.session.call_tool(\n",
    "        \"get_company_monthly_revenue\", {\"symbol\": \"0050\"}\n",
    "    )\n",
    "    print(json.dumps(json.loads(result.content[0].text), ensure_ascii=False, indent=2))"
   ]
  },
  {
   "cell_type": "code",
   "execution_count": null,
   "id": "f702d4ba",
   "metadata": {},
   "outputs": [],
   "source": [
    "# 測試：取得估值比率\n",
    "async with MCPServerStdio(params=params, client_session_timeout_seconds=60) as server:\n",
    "    result = await server.session.call_tool(\n",
    "        \"get_stock_valuation_ratios\", {\"symbol\": \"0050\"}\n",
    "    )\n",
    "    print(json.dumps(json.loads(result.content[0].text), ensure_ascii=False, indent=2))"
   ]
  },
  {
   "cell_type": "markdown",
   "id": "1cccd900",
   "metadata": {},
   "source": [
    "## 3. 交易統計工具測試"
   ]
  },
  {
   "cell_type": "markdown",
   "id": "f9c5f624",
   "metadata": {},
   "source": [
    "### 3.1 月交易統計"
   ]
  },
  {
   "cell_type": "code",
   "execution_count": null,
   "id": "9eee2e6d",
   "metadata": {},
   "outputs": [],
   "source": [
    "# 測試：取得月交易資訊\n",
    "async with MCPServerStdio(params=params, client_session_timeout_seconds=60) as server:\n",
    "    result = await server.session.call_tool(\n",
    "        \"get_stock_monthly_trading\",\n",
    "        {\"symbol\": \"0050\"}\n",
    "    )\n",
    "    print(json.dumps(json.loads(result.content[0].text), ensure_ascii=False, indent=2))"
   ]
  },
  {
   "cell_type": "code",
   "execution_count": null,
   "id": "0352dfdb",
   "metadata": {},
   "outputs": [],
   "source": [
    "# 測試：取得月平均價格\n",
    "async with MCPServerStdio(params=params, client_session_timeout_seconds=60) as server:\n",
    "    result = await server.session.call_tool(\n",
    "        \"get_stock_monthly_average\",\n",
    "        {\"symbol\": \"2330\"}\n",
    "    )\n",
    "    print(json.dumps(json.loads(result.content[0].text), ensure_ascii=False, indent=2))"
   ]
  },
  {
   "cell_type": "markdown",
   "id": "0764b1ab",
   "metadata": {},
   "source": [
    "### 3.2 年交易統計"
   ]
  },
  {
   "cell_type": "code",
   "execution_count": null,
   "id": "f2804888",
   "metadata": {},
   "outputs": [],
   "source": [
    "# 測試：取得年交易資訊\n",
    "async with MCPServerStdio(params=params, client_session_timeout_seconds=60) as server:\n",
    "    result = await server.session.call_tool(\n",
    "        \"get_stock_yearly_trading\",\n",
    "        {\"symbol\": \"2330\"}\n",
    "    )\n",
    "    print(json.dumps(json.loads(result.content[0].text), ensure_ascii=False, indent=2))"
   ]
  },
  {
   "cell_type": "markdown",
   "id": "0ef98375",
   "metadata": {},
   "source": [
    "## 4. 市場資訊工具測試"
   ]
  },
  {
   "cell_type": "markdown",
   "id": "a5c29283",
   "metadata": {},
   "source": [
    "### 4.1 融資融券"
   ]
  },
  {
   "cell_type": "code",
   "execution_count": null,
   "id": "2e30a2d2",
   "metadata": {},
   "outputs": [],
   "source": [
    "# 測試：取得融資融券資訊\n",
    "async with MCPServerStdio(params=params, client_session_timeout_seconds=60) as server:\n",
    "    result = await server.session.call_tool(\n",
    "        \"get_margin_trading_info\",\n",
    "        {}\n",
    "    )\n",
    "    print(json.dumps(json.loads(result.content[0].text), ensure_ascii=False, indent=2))"
   ]
  },
  {
   "cell_type": "markdown",
   "id": "05d0c256",
   "metadata": {},
   "source": [
    "### 4.2 即時交易統計"
   ]
  },
  {
   "cell_type": "code",
   "execution_count": null,
   "id": "b9130f10",
   "metadata": {},
   "outputs": [],
   "source": [
    "# 測試：取得即時交易統計\n",
    "async with MCPServerStdio(params=params, client_session_timeout_seconds=60) as server:\n",
    "    result = await server.session.call_tool(\n",
    "        \"get_real_time_trading_stats\",\n",
    "        {}\n",
    "    )\n",
    "    print(json.dumps(json.loads(result.content[0].text), ensure_ascii=False, indent=2))"
   ]
  },
  {
   "cell_type": "markdown",
   "id": "fdd74cf2",
   "metadata": {},
   "source": [
    "### 4.3 ETF排名"
   ]
  },
  {
   "cell_type": "code",
   "execution_count": null,
   "id": "01cc4f6d",
   "metadata": {},
   "outputs": [],
   "source": [
    "# 測試：取得ETF定期定額排名\n",
    "async with MCPServerStdio(params=params, client_session_timeout_seconds=60) as server:\n",
    "    result = await server.session.call_tool(\n",
    "        \"get_etf_regular_investment_ranking\",\n",
    "        {}\n",
    "    )\n",
    "    print(json.dumps(json.loads(result.content[0].text), ensure_ascii=False, indent=2))"
   ]
  },
  {
   "cell_type": "markdown",
   "id": "1fccfc5b",
   "metadata": {},
   "source": [
    "### 4.4 市場指數"
   ]
  },
  {
   "cell_type": "code",
   "execution_count": null,
   "id": "cdcccdb3",
   "metadata": {},
   "outputs": [],
   "source": [
    "# 測試：取得發行量加權股價指數\n",
    "async with MCPServerStdio(params=params, client_session_timeout_seconds=60) as server:\n",
    "    result = await server.session.call_tool(\n",
    "        \"get_market_index_info\",\n",
    "        {}\n",
    "    )\n",
    "    print(json.dumps(json.loads(result.content[0].text), ensure_ascii=False, indent=2))"
   ]
  },
  {
   "cell_type": "markdown",
   "id": "56141be4",
   "metadata": {},
   "source": [
    "### 4.5 歷史指數"
   ]
  },
  {
   "cell_type": "code",
   "execution_count": null,
   "id": "73ca8559",
   "metadata": {},
   "outputs": [],
   "source": [
    "# 測試：取得歷史指數資料\n",
    "async with MCPServerStdio(params=params, client_session_timeout_seconds=60) as server:\n",
    "    result = await server.session.call_tool(\n",
    "        \"get_market_historical_index\",\n",
    "        {}\n",
    "    )\n",
    "    print(json.dumps(json.loads(result.content[0].text), ensure_ascii=False, indent=2))"
   ]
  },
  {
   "cell_type": "markdown",
   "id": "fe1e6509",
   "metadata": {},
   "source": [
    "## 5. 外資工具測試"
   ]
  },
  {
   "cell_type": "markdown",
   "id": "aa33e85c",
   "metadata": {},
   "source": [
    "### 5.1 外資持股（按產業）"
   ]
  },
  {
   "cell_type": "code",
   "execution_count": null,
   "id": "9adddc91",
   "metadata": {},
   "outputs": [],
   "source": [
    "# 測試：取得外資各產業持股\n",
    "async with MCPServerStdio(params=params, client_session_timeout_seconds=60) as server:\n",
    "    result = await server.session.call_tool(\n",
    "        \"get_foreign_investment_by_industry\",\n",
    "        {\"count\": 8}\n",
    "    )\n",
    "    print(json.dumps(json.loads(result.content[0].text), ensure_ascii=False, indent=2))"
   ]
  },
  {
   "cell_type": "markdown",
   "id": "73f4ac23",
   "metadata": {},
   "source": [
    "### 5.2 外資持股前20名"
   ]
  },
  {
   "cell_type": "code",
   "execution_count": null,
   "id": "8c89a90d",
   "metadata": {},
   "outputs": [],
   "source": [
    "# 測試：取得外資持股前20名\n",
    "async with MCPServerStdio(params=params, client_session_timeout_seconds=60) as server:\n",
    "    result = await server.session.call_tool(\n",
    "        \"get_top_foreign_holdings\",\n",
    "        {}\n",
    "    )\n",
    "    print(json.dumps(json.loads(result.content[0].text), ensure_ascii=False, indent=2))"
   ]
  },
  {
   "cell_type": "markdown",
   "id": "9f2135ce",
   "metadata": {},
   "source": [
    "## 6. 節假日工具測試"
   ]
  },
  {
   "cell_type": "markdown",
   "id": "f21a4a70",
   "metadata": {},
   "source": [
    "### 6.1 節假日資訊"
   ]
  },
  {
   "cell_type": "code",
   "execution_count": null,
   "id": "47f8d300",
   "metadata": {},
   "outputs": [],
   "source": [
    "# 測試：查詢元旦\n",
    "async with MCPServerStdio(params=params, client_session_timeout_seconds=60) as server:\n",
    "    result = await server.session.call_tool(\n",
    "        \"get_taiwan_holiday_info\",\n",
    "        {\"date\": \"2025-01-01\"}\n",
    "    )\n",
    "    print(json.dumps(json.loads(result.content[0].text), ensure_ascii=False, indent=2))"
   ]
  },
  {
   "cell_type": "code",
   "execution_count": null,
   "id": "55f600bd",
   "metadata": {},
   "outputs": [],
   "source": [
    "# 測試：查詢中秋節\n",
    "async with MCPServerStdio(params=params, client_session_timeout_seconds=60) as server:\n",
    "    result = await server.session.call_tool(\n",
    "        \"get_taiwan_holiday_info\",\n",
    "        {\"date\": \"2025-10-06\"}\n",
    "    )\n",
    "    print(json.dumps(json.loads(result.content[0].text), ensure_ascii=False, indent=2))"
   ]
  },
  {
   "cell_type": "code",
   "execution_count": null,
   "id": "89ddb7c2",
   "metadata": {},
   "outputs": [],
   "source": [
    "# 測試：查詢一般工作日\n",
    "async with MCPServerStdio(params=params, client_session_timeout_seconds=60) as server:\n",
    "    result = await server.session.call_tool(\n",
    "        \"get_taiwan_holiday_info\",\n",
    "        {\"date\": \"2025-10-07\"}\n",
    "    )\n",
    "    print(json.dumps(json.loads(result.content[0].text), ensure_ascii=False, indent=2))"
   ]
  },
  {
   "cell_type": "markdown",
   "id": "177d786f",
   "metadata": {},
   "source": [
    "### 6.2 交易日檢查"
   ]
  },
  {
   "cell_type": "code",
   "execution_count": null,
   "id": "e3da6c06",
   "metadata": {},
   "outputs": [],
   "source": [
    "# 測試：檢查元旦是否為交易日\n",
    "async with MCPServerStdio(params=params, client_session_timeout_seconds=60) as server:\n",
    "    result = await server.session.call_tool(\n",
    "        \"check_taiwan_trading_day\",\n",
    "        {\"date\": \"2025-01-01\"}\n",
    "    )\n",
    "    print(json.dumps(json.loads(result.content[0].text), ensure_ascii=False, indent=2))"
   ]
  },
  {
   "cell_type": "code",
   "execution_count": null,
   "id": "3bc5e650",
   "metadata": {},
   "outputs": [],
   "source": [
    "# 測試：檢查週六是否為交易日\n",
    "async with MCPServerStdio(params=params, client_session_timeout_seconds=60) as server:\n",
    "    result = await server.session.call_tool(\n",
    "        \"check_taiwan_trading_day\",\n",
    "        {\"date\": \"2025-10-11\"}\n",
    "    )\n",
    "    print(json.dumps(json.loads(result.content[0].text), ensure_ascii=False, indent=2))"
   ]
  },
  {
   "cell_type": "code",
   "execution_count": null,
   "id": "1d85a8f9",
   "metadata": {},
   "outputs": [],
   "source": [
    "# 測試：檢查一般工作日是否為交易日\n",
    "async with MCPServerStdio(params=params, client_session_timeout_seconds=60) as server:\n",
    "    result = await server.session.call_tool(\n",
    "        \"check_taiwan_trading_day\",\n",
    "        {\"date\": \"2025-10-07\"}\n",
    "    )\n",
    "    print(json.dumps(json.loads(result.content[0].text), ensure_ascii=False, indent=2))"
   ]
  }
 ],
 "metadata": {
  "kernelspec": {
   "display_name": ".venv",
   "language": "python",
   "name": "python3"
  },
  "language_info": {
   "codemirror_mode": {
    "name": "ipython",
    "version": 3
   },
   "file_extension": ".py",
   "mimetype": "text/x-python",
   "name": "python",
   "nbconvert_exporter": "python",
   "pygments_lexer": "ipython3",
   "version": "3.12.8"
  }
 },
 "nbformat": 4,
 "nbformat_minor": 5
}
